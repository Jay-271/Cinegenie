{
 "cells": [
  {
   "cell_type": "markdown",
   "metadata": {},
   "source": [
    "Please place all data into `backend/` folder. If you decide to move stuff around just list so up here."
   ]
  },
  {
   "cell_type": "markdown",
   "metadata": {},
   "source": [
    "# REQUIREMENTS + Gen info\n"
   ]
  },
  {
   "cell_type": "markdown",
   "metadata": {},
   "source": [
    "## install following requirements\n",
    "\n",
    "> pip install pandas ipykernel tensorflow\n",
    "\n",
    "## Suggestions\n",
    "\n",
    "- I really reccomend using vscode extension \"data wrangler\". It helps visualize dfs. Otherwise, happy coding :)\n",
    "---\n",
    "\n",
    "\n",
    "## IMDb Dataset Details\n",
    "Download from [imdb](https://datasets.imdbws.com/)\n",
    "\n",
    "* Each dataset is contained in a gzipped, tab-separated-values (TSV) formatted file in the UTF-8 character set. \n",
    "* The first line in each file contains headers that describe what is in each column. \n",
    "* A '\\N' is used to denote that a particular field is missing or null for that title/name. The available datasets are as follows:\n",
    "\n",
    "### title.akas.tsv.gz\n",
    "\n",
    "* titleId (string) - a tconst, an alphanumeric unique identifier of the title\n",
    "* ordering (integer) – a number to uniquely identify rows for a given titleId\n",
    "* title (string) – the localized title\n",
    "* region (string) - the region for this version of the title\n",
    "* language (string) - the language of the title\n",
    "* types (array) - Enumerated set of attributes for this alternative title. One or more of the following: \"alternative\", \"dvd\", \"festival\", \"tv\", \"video\", \"working\", \"original\", \"imdbDisplay\". New values may be added in the future without warning\n",
    "* attributes (array) - Additional terms to describe this alternative title, not enumerated\n",
    "* isOriginalTitle (boolean) – 0: not original title; 1: original title\n",
    "\n",
    "### title.basics.tsv.gz\n",
    "\n",
    "* tconst (string) - alphanumeric unique identifier of the title\n",
    "* titleType (string) – the type/format of the title (e.g. movie, short, tvseries, tvepisode, video, etc)\n",
    "* primaryTitle (string) – the more popular title / the title used by the filmmakers on promotional materials at the point of release\n",
    "* originalTitle (string) - original title, in the original language\n",
    "* isAdult (boolean) - 0: non-adult title; 1: adult title\n",
    "* startYear (YYYY) – represents the release year of a title. In the case of TV Series, it is the series start year\n",
    "* endYear (YYYY) – TV Series end year. '\\N' for all other title types\n",
    "* runtimeMinutes – primary runtime of the title, in minutes\n",
    "* genres (string array) – includes up to three genres associated with the title\n",
    "\n",
    "### title.crew.tsv.gz\n",
    "\n",
    "* tconst (string) - alphanumeric unique identifier of the title\n",
    "* directors (array of nconsts) - director(s) of the given title\n",
    "* writers (array of nconsts) – writer(s) of the given title\n",
    "\n",
    "### title.episode.tsv.gz\n",
    "tconst (string) - alphanumeric identifier of episode\n",
    "parentTconst (string) - alphanumeric identifier of the parent TV Series\n",
    "seasonNumber (integer) – season number the episode belongs to\n",
    "episodeNumber (integer) – episode number of the tconst in the TV series\n",
    "\n",
    "### title.principals.tsv.gz\n",
    "\n",
    "* tconst (string) - alphanumeric unique identifier of the title\n",
    "* ordering (integer) – a number to uniquely identify rows for a given titleId\n",
    "* nconst (string) - alphanumeric unique identifier of the name/person\n",
    "* category (string) - the category of job that person was in\n",
    "* job (string) - the specific job title if applicable, else '\\N'\n",
    "* characters (string) - the name of the character played if applicable, else '\\N'\n",
    "\n",
    "### title.ratings.tsv.gz\n",
    "\n",
    "* tconst (string) - alphanumeric unique identifier of the title\n",
    "* averageRating – weighted average of all the individual user ratings\n",
    "* numVotes - number of votes the title has received\n",
    "\n",
    "### name.basics.tsv.gz\n",
    "\n",
    "* nconst (string) - alphanumeric unique identifier of the name/person\n",
    "* primaryName (string)– name by which the person is most often credited\n",
    "* birthYear – in YYYY format\n",
    "* deathYear – in YYYY format if applicable, else '\\N'\n",
    "* primaryProfession (array of strings)– the top-3 professions of the person\n",
    "* knownForTitles (array of tconsts) – titles the person is known for"
   ]
  },
  {
   "cell_type": "markdown",
   "metadata": {},
   "source": [
    "# Data preperation + saving"
   ]
  },
  {
   "cell_type": "code",
   "execution_count": null,
   "metadata": {},
   "outputs": [],
   "source": [
    "# To install libraries, run: pip install pandas in a seperate terminal but just make sure you use the right environment\n",
    "# I had to manually type in the interpreter path for the venv to work so you might have to do the same.\n",
    "# in vscode on the search bar type a \">\" and type \"Python: Select Interpreter\" and select the venv path you made\n",
    "\n",
    "import pandas as pd\n",
    "\n",
    "# Load all datasets\n",
    "\"\"\"\n",
    "\n",
    "name_df = pd.read_csv('data/name.basics.tsv', sep='\\t')\n",
    "title_akas_df = pd.read_csv('data/title.akas.tsv', sep='\\t')\n",
    "title_basics_df = pd.read_csv('data/title.basics.tsv', sep='\\t')\n",
    "title_crew_df = pd.read_csv('data/title.crew.tsv', sep='\\t')\n",
    "title_episode_df = pd.read_csv('data/title.episode.tsv', sep='\\t')\n",
    "title_principals_df = pd.read_csv('data/title.principals.tsv', sep='\\t')\n",
    "title_ratings_df = pd.read_csv('data/title.ratings.tsv', sep='\\t')\n",
    "\n",
    "\"\"\"\n",
    "title_basics_df = pd.read_csv('data/title.basics.tsv', sep='\\t')\n",
    "title_ratings_df = pd.read_csv('data/title.ratings.tsv', sep='\\t')\n",
    "title_principals_df = pd.read_csv('data/title.principals.tsv', sep='\\t')\n",
    "name_df = pd.read_csv('data/name.basics.tsv', sep='\\t')\n",
    "\n"
   ]
  },
  {
   "cell_type": "code",
   "execution_count": null,
   "metadata": {},
   "outputs": [],
   "source": [
    "import pandas as pd\n",
    "import numpy as np\n",
    "from sklearn.preprocessing import MultiLabelBinarizer\n",
    "\n",
    "# Filter data to include only movies\n",
    "movies_df = title_basics_df[title_basics_df['titleType'] == 'movie'].copy()\n",
    "\n",
    "# Merge movies data w/ ratings data\n",
    "# use tconst as key (from markdown), merge left means keep all rows from movies_df\n",
    "movies_with_ratings = pd.merge(movies_df, title_ratings_df, on='tconst', how='left')\n",
    "\n",
    "# Get actors for each movie\n",
    "actors_df = title_principals_df[title_principals_df['category'].isin(['actor', 'actress'])]\n",
    "actors_with_names = pd.merge(actors_df, name_df[['nconst', 'primaryName']], on='nconst', how='left')\n"
   ]
  },
  {
   "cell_type": "code",
   "execution_count": null,
   "metadata": {},
   "outputs": [],
   "source": [
    "movies_with_ratings.head()"
   ]
  },
  {
   "cell_type": "code",
   "execution_count": null,
   "metadata": {},
   "outputs": [],
   "source": [
    "actors_with_names.head()"
   ]
  },
  {
   "cell_type": "code",
   "execution_count": null,
   "metadata": {},
   "outputs": [],
   "source": [
    "\n",
    "# Get most popular actors (appear in most movies)\n",
    "actor_counts = actors_with_names['nconst'].value_counts()\n",
    "top_actors = actor_counts.head(500).index.tolist()  # We'll use top 500 actors as features (500 because theres too many actors )\n",
    "\n",
    "# Create actor name lookup dictionary (will use in frontend)\n",
    "actor_id_to_name = dict(zip(actors_with_names['nconst'], actors_with_names['primaryName']))\n",
    "\n",
    "# Group actors by movie\n",
    "movie_actors = actors_with_names[actors_with_names['nconst'].isin(top_actors)]\n",
    "movie_actors = movie_actors.groupby('tconst')['nconst'].apply(list).reset_index()\n",
    "\n",
    "# Merge actors with movies\n",
    "final_movies_df = pd.merge(movies_with_ratings, movie_actors, on='tconst', how='left')"
   ]
  },
  {
   "cell_type": "code",
   "execution_count": null,
   "metadata": {},
   "outputs": [],
   "source": [
    "final_movies_df.head()"
   ]
  },
  {
   "cell_type": "code",
   "execution_count": null,
   "metadata": {},
   "outputs": [],
   "source": [
    "\n",
    "# Prepare final dataset\n",
    "final_dataset = final_movies_df[[\n",
    "    'tconst', # movie id \n",
    "    'primaryTitle', \n",
    "    'startYear', \n",
    "    'genres', \n",
    "    'nconst',  # List of actors\n",
    "    'averageRating', \n",
    "    'numVotes'\n",
    "]].copy()\n",
    "\n",
    "# Handle missing values\n",
    "final_dataset['averageRating'] = final_dataset['averageRating'].fillna(0)\n",
    "final_dataset['numVotes'] = final_dataset['numVotes'].fillna(0)\n",
    "final_dataset['nconst'] = final_dataset['nconst'].fillna('').apply(lambda x: [] if x == '' else x)\n",
    "final_dataset = final_dataset.rename(columns={'nconst': 'actor_ids'})\n"
   ]
  },
  {
   "cell_type": "code",
   "execution_count": null,
   "metadata": {},
   "outputs": [],
   "source": [
    "final_dataset.head()"
   ]
  },
  {
   "cell_type": "code",
   "execution_count": null,
   "metadata": {},
   "outputs": [],
   "source": [
    "\n",
    "# Parse and normalize features\n",
    "final_dataset['startYear'] = pd.to_numeric(final_dataset['startYear'], errors='coerce')\n",
    "final_dataset = final_dataset.dropna(subset=['startYear'])\n",
    "final_dataset['startYear'] = final_dataset['startYear'].astype(int)\n",
    "\n",
    "# Normalize year \n",
    "current_year = 2023\n",
    "final_dataset['year_normalized'] = (final_dataset['startYear'] - 1900) / (current_year - 1900)\n",
    "\n",
    "# Parse genres\n",
    "final_dataset['genres'] = final_dataset['genres'].fillna('')\n",
    "final_dataset['genres'] = final_dataset['genres'].apply(lambda x: x.split(',') if x else [])\n"
   ]
  },
  {
   "cell_type": "code",
   "execution_count": null,
   "metadata": {},
   "outputs": [],
   "source": [
    "final_dataset.head()"
   ]
  },
  {
   "cell_type": "code",
   "execution_count": null,
   "metadata": {},
   "outputs": [],
   "source": [
    "\n",
    "# Create feature matrices\n",
    "# For genres\n",
    "genre_mlb = MultiLabelBinarizer()\n",
    "genre_features = genre_mlb.fit_transform(final_dataset['genres'])\n",
    "genre_feature_names = genre_mlb.classes_\n",
    "\n",
    "# For actors\n",
    "actor_mlb = MultiLabelBinarizer(classes=top_actors)\n",
    "actor_features = actor_mlb.fit_transform(final_dataset['actor_ids'])\n",
    "actor_feature_names = actor_mlb.classes_\n"
   ]
  },
  {
   "cell_type": "code",
   "execution_count": null,
   "metadata": {},
   "outputs": [],
   "source": [
    "# Create metadata for the frontend whenever NN is made \n",
    "# [DEPRECATED, see `create_NN.ipynb`]\n",
    "movie_id_to_index = {movie_id: i for i, movie_id in enumerate(final_dataset['tconst'])}\n",
    "movie_index_to_id = {str(i): movie_id for i, movie_id in enumerate(final_dataset['tconst'])}\n",
    "movie_id_to_title = {movie_id: title for movie_id, title in zip(final_dataset['tconst'], final_dataset['primaryTitle'])}\n",
    "\n",
    "metadata = {\n",
    "    'movie_id_to_index': movie_id_to_index,\n",
    "    'movie_index_to_id': movie_index_to_id,\n",
    "    'movie_id_to_title': movie_id_to_title,\n",
    "    'genre_names': genre_feature_names.tolist(),\n",
    "    'actor_ids': actor_feature_names.tolist(),\n",
    "    'actor_names': {actor_id: actor_id_to_name.get(actor_id, '') for actor_id in actor_feature_names},\n",
    "    #'feature_count': int(X.shape[1]),\n",
    "    'year_index': 0,\n",
    "    'genre_start_index': 1,\n",
    "    'genre_count': len(genre_feature_names),\n",
    "    'actor_start_index': 1 + len(genre_feature_names)\n",
    "}\n",
    "\n",
    "import json\n",
    "with open('recommendation_metadata.json', 'w') as f:\n",
    "    json.dump(metadata, f, default=str)\n",
    "\n",
    "# Also save final dataset for reference\n",
    "final_dataset[['tconst', 'primaryTitle', 'startYear', 'genres', 'actor_ids', 'averageRating', 'numVotes']].to_csv('processed_movies.csv', index=False)"
   ]
  }
 ],
 "metadata": {
  "kernelspec": {
   "display_name": "work",
   "language": "python",
   "name": "python3"
  },
  "language_info": {
   "codemirror_mode": {
    "name": "ipython",
    "version": 3
   },
   "file_extension": ".py",
   "mimetype": "text/x-python",
   "name": "python",
   "nbconvert_exporter": "python",
   "pygments_lexer": "ipython3",
   "version": "3.11.4"
  }
 },
 "nbformat": 4,
 "nbformat_minor": 2
}
