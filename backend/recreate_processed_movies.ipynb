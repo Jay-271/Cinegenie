{
 "cells": [
  {
   "cell_type": "code",
   "execution_count": 1,
   "id": "a17eb627",
   "metadata": {},
   "outputs": [
    {
     "data": {
      "application/vnd.microsoft.datawrangler.viewer.v0+json": {
       "columns": [
        {
         "name": "index",
         "rawType": "int64",
         "type": "integer"
        },
        {
         "name": "tconst",
         "rawType": "object",
         "type": "string"
        },
        {
         "name": "primaryTitle",
         "rawType": "object",
         "type": "string"
        },
        {
         "name": "startYear",
         "rawType": "int64",
         "type": "integer"
        },
        {
         "name": "genres",
         "rawType": "object",
         "type": "string"
        },
        {
         "name": "actor_ids",
         "rawType": "object",
         "type": "string"
        },
        {
         "name": "averageRating",
         "rawType": "float64",
         "type": "float"
        },
        {
         "name": "numVotes",
         "rawType": "float64",
         "type": "float"
        }
       ],
       "conversionMethod": "pd.DataFrame",
       "ref": "e0603f33-deb0-4727-b49d-1b359f727046",
       "rows": [
        [
         "0",
         "tt0000009",
         "Miss Jerry",
         "1894",
         "['Romance']",
         "[]",
         "5.4",
         "218.0"
        ],
        [
         "1",
         "tt0000147",
         "The Corbett-Fitzsimmons Fight",
         "1897",
         "['Documentary', 'News', 'Sport']",
         "[]",
         "5.3",
         "549.0"
        ],
        [
         "2",
         "tt0000502",
         "Bohemios",
         "1905",
         "['\\\\N']",
         "[]",
         "3.8",
         "20.0"
        ],
        [
         "3",
         "tt0000574",
         "The Story of the Kelly Gang",
         "1906",
         "['Action', 'Adventure', 'Biography']",
         "[]",
         "6.0",
         "969.0"
        ],
        [
         "4",
         "tt0000591",
         "The Prodigal Son",
         "1907",
         "['Drama']",
         "[]",
         "5.6",
         "30.0"
        ]
       ],
       "shape": {
        "columns": 7,
        "rows": 5
       }
      },
      "text/html": [
       "<div>\n",
       "<style scoped>\n",
       "    .dataframe tbody tr th:only-of-type {\n",
       "        vertical-align: middle;\n",
       "    }\n",
       "\n",
       "    .dataframe tbody tr th {\n",
       "        vertical-align: top;\n",
       "    }\n",
       "\n",
       "    .dataframe thead th {\n",
       "        text-align: right;\n",
       "    }\n",
       "</style>\n",
       "<table border=\"1\" class=\"dataframe\">\n",
       "  <thead>\n",
       "    <tr style=\"text-align: right;\">\n",
       "      <th></th>\n",
       "      <th>tconst</th>\n",
       "      <th>primaryTitle</th>\n",
       "      <th>startYear</th>\n",
       "      <th>genres</th>\n",
       "      <th>actor_ids</th>\n",
       "      <th>averageRating</th>\n",
       "      <th>numVotes</th>\n",
       "    </tr>\n",
       "  </thead>\n",
       "  <tbody>\n",
       "    <tr>\n",
       "      <th>0</th>\n",
       "      <td>tt0000009</td>\n",
       "      <td>Miss Jerry</td>\n",
       "      <td>1894</td>\n",
       "      <td>['Romance']</td>\n",
       "      <td>[]</td>\n",
       "      <td>5.4</td>\n",
       "      <td>218.0</td>\n",
       "    </tr>\n",
       "    <tr>\n",
       "      <th>1</th>\n",
       "      <td>tt0000147</td>\n",
       "      <td>The Corbett-Fitzsimmons Fight</td>\n",
       "      <td>1897</td>\n",
       "      <td>['Documentary', 'News', 'Sport']</td>\n",
       "      <td>[]</td>\n",
       "      <td>5.3</td>\n",
       "      <td>549.0</td>\n",
       "    </tr>\n",
       "    <tr>\n",
       "      <th>2</th>\n",
       "      <td>tt0000502</td>\n",
       "      <td>Bohemios</td>\n",
       "      <td>1905</td>\n",
       "      <td>['\\\\N']</td>\n",
       "      <td>[]</td>\n",
       "      <td>3.8</td>\n",
       "      <td>20.0</td>\n",
       "    </tr>\n",
       "    <tr>\n",
       "      <th>3</th>\n",
       "      <td>tt0000574</td>\n",
       "      <td>The Story of the Kelly Gang</td>\n",
       "      <td>1906</td>\n",
       "      <td>['Action', 'Adventure', 'Biography']</td>\n",
       "      <td>[]</td>\n",
       "      <td>6.0</td>\n",
       "      <td>969.0</td>\n",
       "    </tr>\n",
       "    <tr>\n",
       "      <th>4</th>\n",
       "      <td>tt0000591</td>\n",
       "      <td>The Prodigal Son</td>\n",
       "      <td>1907</td>\n",
       "      <td>['Drama']</td>\n",
       "      <td>[]</td>\n",
       "      <td>5.6</td>\n",
       "      <td>30.0</td>\n",
       "    </tr>\n",
       "  </tbody>\n",
       "</table>\n",
       "</div>"
      ],
      "text/plain": [
       "      tconst                   primaryTitle  startYear  \\\n",
       "0  tt0000009                     Miss Jerry       1894   \n",
       "1  tt0000147  The Corbett-Fitzsimmons Fight       1897   \n",
       "2  tt0000502                       Bohemios       1905   \n",
       "3  tt0000574    The Story of the Kelly Gang       1906   \n",
       "4  tt0000591               The Prodigal Son       1907   \n",
       "\n",
       "                                 genres actor_ids  averageRating  numVotes  \n",
       "0                           ['Romance']        []            5.4     218.0  \n",
       "1      ['Documentary', 'News', 'Sport']        []            5.3     549.0  \n",
       "2                               ['\\\\N']        []            3.8      20.0  \n",
       "3  ['Action', 'Adventure', 'Biography']        []            6.0     969.0  \n",
       "4                             ['Drama']        []            5.6      30.0  "
      ]
     },
     "execution_count": 1,
     "metadata": {},
     "output_type": "execute_result"
    }
   ],
   "source": [
    "import pandas as pd\n",
    "df = pd.read_csv('processed_movies.csv')\n",
    "df.head()"
   ]
  },
  {
   "cell_type": "code",
   "execution_count": 2,
   "id": "8b2ce8d8",
   "metadata": {},
   "outputs": [
    {
     "data": {
      "application/vnd.microsoft.datawrangler.viewer.v0+json": {
       "columns": [
        {
         "name": "tconst",
         "rawType": "object",
         "type": "string"
        },
        {
         "name": "primaryTitle",
         "rawType": "object",
         "type": "string"
        },
        {
         "name": "startYear",
         "rawType": "int64",
         "type": "integer"
        },
        {
         "name": "genres",
         "rawType": "object",
         "type": "unknown"
        },
        {
         "name": "actor_ids",
         "rawType": "object",
         "type": "unknown"
        },
        {
         "name": "averageRating",
         "rawType": "float64",
         "type": "float"
        },
        {
         "name": "numVotes",
         "rawType": "float64",
         "type": "float"
        }
       ],
       "conversionMethod": "pd.DataFrame",
       "ref": "4367349a-adb8-4bac-b365-07354310328a",
       "rows": [
        [
         "tt0000009",
         "Miss Jerry",
         "1894",
         "['Romance']",
         "[]",
         "5.4",
         "218.0"
        ],
        [
         "tt0000147",
         "The Corbett-Fitzsimmons Fight",
         "1897",
         "['Documentary', 'News', 'Sport']",
         "[]",
         "5.3",
         "549.0"
        ],
        [
         "tt0000502",
         "Bohemios",
         "1905",
         "['\\\\N']",
         "[]",
         "3.8",
         "20.0"
        ],
        [
         "tt0000574",
         "The Story of the Kelly Gang",
         "1906",
         "['Action', 'Adventure', 'Biography']",
         "[]",
         "6.0",
         "969.0"
        ],
        [
         "tt0000591",
         "The Prodigal Son",
         "1907",
         "['Drama']",
         "[]",
         "5.6",
         "30.0"
        ]
       ],
       "shape": {
        "columns": 6,
        "rows": 5
       }
      },
      "text/html": [
       "<div>\n",
       "<style scoped>\n",
       "    .dataframe tbody tr th:only-of-type {\n",
       "        vertical-align: middle;\n",
       "    }\n",
       "\n",
       "    .dataframe tbody tr th {\n",
       "        vertical-align: top;\n",
       "    }\n",
       "\n",
       "    .dataframe thead th {\n",
       "        text-align: right;\n",
       "    }\n",
       "</style>\n",
       "<table border=\"1\" class=\"dataframe\">\n",
       "  <thead>\n",
       "    <tr style=\"text-align: right;\">\n",
       "      <th></th>\n",
       "      <th>primaryTitle</th>\n",
       "      <th>startYear</th>\n",
       "      <th>genres</th>\n",
       "      <th>actor_ids</th>\n",
       "      <th>averageRating</th>\n",
       "      <th>numVotes</th>\n",
       "    </tr>\n",
       "    <tr>\n",
       "      <th>tconst</th>\n",
       "      <th></th>\n",
       "      <th></th>\n",
       "      <th></th>\n",
       "      <th></th>\n",
       "      <th></th>\n",
       "      <th></th>\n",
       "    </tr>\n",
       "  </thead>\n",
       "  <tbody>\n",
       "    <tr>\n",
       "      <th>tt0000009</th>\n",
       "      <td>Miss Jerry</td>\n",
       "      <td>1894</td>\n",
       "      <td>[Romance]</td>\n",
       "      <td>[]</td>\n",
       "      <td>5.4</td>\n",
       "      <td>218.0</td>\n",
       "    </tr>\n",
       "    <tr>\n",
       "      <th>tt0000147</th>\n",
       "      <td>The Corbett-Fitzsimmons Fight</td>\n",
       "      <td>1897</td>\n",
       "      <td>[Documentary, News, Sport]</td>\n",
       "      <td>[]</td>\n",
       "      <td>5.3</td>\n",
       "      <td>549.0</td>\n",
       "    </tr>\n",
       "    <tr>\n",
       "      <th>tt0000502</th>\n",
       "      <td>Bohemios</td>\n",
       "      <td>1905</td>\n",
       "      <td>[\\N]</td>\n",
       "      <td>[]</td>\n",
       "      <td>3.8</td>\n",
       "      <td>20.0</td>\n",
       "    </tr>\n",
       "    <tr>\n",
       "      <th>tt0000574</th>\n",
       "      <td>The Story of the Kelly Gang</td>\n",
       "      <td>1906</td>\n",
       "      <td>[Action, Adventure, Biography]</td>\n",
       "      <td>[]</td>\n",
       "      <td>6.0</td>\n",
       "      <td>969.0</td>\n",
       "    </tr>\n",
       "    <tr>\n",
       "      <th>tt0000591</th>\n",
       "      <td>The Prodigal Son</td>\n",
       "      <td>1907</td>\n",
       "      <td>[Drama]</td>\n",
       "      <td>[]</td>\n",
       "      <td>5.6</td>\n",
       "      <td>30.0</td>\n",
       "    </tr>\n",
       "  </tbody>\n",
       "</table>\n",
       "</div>"
      ],
      "text/plain": [
       "                            primaryTitle  startYear  \\\n",
       "tconst                                                \n",
       "tt0000009                     Miss Jerry       1894   \n",
       "tt0000147  The Corbett-Fitzsimmons Fight       1897   \n",
       "tt0000502                       Bohemios       1905   \n",
       "tt0000574    The Story of the Kelly Gang       1906   \n",
       "tt0000591               The Prodigal Son       1907   \n",
       "\n",
       "                                   genres actor_ids  averageRating  numVotes  \n",
       "tconst                                                                        \n",
       "tt0000009                       [Romance]        []            5.4     218.0  \n",
       "tt0000147      [Documentary, News, Sport]        []            5.3     549.0  \n",
       "tt0000502                            [\\N]        []            3.8      20.0  \n",
       "tt0000574  [Action, Adventure, Biography]        []            6.0     969.0  \n",
       "tt0000591                         [Drama]        []            5.6      30.0  "
      ]
     },
     "execution_count": 2,
     "metadata": {},
     "output_type": "execute_result"
    }
   ],
   "source": [
    "import ast\n",
    "# Function to safely parse string representations of lists/arrays\n",
    "def parse_list_string(s):\n",
    "    try:\n",
    "        # Handle NaN or empty strings\n",
    "        if pd.isna(s) or not isinstance(s, str) or not s.strip():\n",
    "            return []\n",
    "        # Safely evaluate the string literal\n",
    "        parsed = ast.literal_eval(s)\n",
    "        return parsed if isinstance(parsed, list) else []\n",
    "    except (ValueError, SyntaxError):\n",
    "        # Return empty list if parsing fails\n",
    "        return []\n",
    "df['genres'] = df['genres'].apply(parse_list_string)\n",
    "df['actor_ids'] = df['actor_ids'].apply(parse_list_string)\n",
    "df = df.set_index('tconst') \n",
    "df.head()"
   ]
  },
  {
   "cell_type": "code",
   "execution_count": 3,
   "id": "0e4ab382",
   "metadata": {},
   "outputs": [],
   "source": [
    "df.to_json('data/processed_movies.json', orient='index') "
   ]
  }
 ],
 "metadata": {
  "kernelspec": {
   "display_name": "work",
   "language": "python",
   "name": "python3"
  },
  "language_info": {
   "codemirror_mode": {
    "name": "ipython",
    "version": 3
   },
   "file_extension": ".py",
   "mimetype": "text/x-python",
   "name": "python",
   "nbconvert_exporter": "python",
   "pygments_lexer": "ipython3",
   "version": "3.11.4"
  }
 },
 "nbformat": 4,
 "nbformat_minor": 5
}
